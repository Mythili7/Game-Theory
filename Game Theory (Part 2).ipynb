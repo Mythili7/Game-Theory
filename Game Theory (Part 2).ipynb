{
 "cells": [
  {
   "cell_type": "markdown",
   "metadata": {},
   "source": [
    "# Please find link to the Part 1 Medium article below\n",
    "## https://towardsdatascience.com/game-theory-in-python-with-nashpy-cb5dceab262c"
   ]
  },
  {
   "cell_type": "markdown",
   "metadata": {},
   "source": [
    "# Import the libraries"
   ]
  },
  {
   "cell_type": "code",
   "execution_count": 1,
   "metadata": {},
   "outputs": [],
   "source": [
    "# Import packages\n",
    "#!pip install nashpy\n",
    "#!pip install axelrod\n",
    "\n",
    "import nashpy as nash\n",
    "import numpy as np\n",
    "\n",
    "import axelrod as axl"
   ]
  },
  {
   "cell_type": "markdown",
   "metadata": {},
   "source": [
    "# Case 1: Game played finite number of times"
   ]
  },
  {
   "cell_type": "code",
   "execution_count": 29,
   "metadata": {},
   "outputs": [
    {
     "data": {
      "text/plain": [
       "[(C, C),\n",
       " (C, C),\n",
       " (C, C),\n",
       " (C, C),\n",
       " (C, C),\n",
       " (C, C),\n",
       " (C, C),\n",
       " (C, C),\n",
       " (C, C),\n",
       " (C, C)]"
      ]
     },
     "execution_count": 29,
     "metadata": {},
     "output_type": "execute_result"
    }
   ],
   "source": [
    "# Create matches\n",
    "\n",
    "players = (axl.Cooperator(), axl.Cooperator())               # using players of Defector strategy\n",
    "match1 =   axl.Match(players, turns =10)                          # play for 10 turns\n",
    "match1.play()"
   ]
  },
  {
   "cell_type": "markdown",
   "metadata": {},
   "source": [
    "# Payoff to the players for Case 1"
   ]
  },
  {
   "cell_type": "code",
   "execution_count": 18,
   "metadata": {},
   "outputs": [
    {
     "data": {
      "text/plain": [
       "Axelrod game: (R,P,S,T) = (3, 1, 0, 5)"
      ]
     },
     "execution_count": 18,
     "metadata": {},
     "output_type": "execute_result"
    }
   ],
   "source": [
    "# Payoffs\n",
    "\n",
    "match1.game        #Analyze the match"
   ]
  },
  {
   "cell_type": "markdown",
   "metadata": {},
   "source": [
    "#### These payoffs are commonly referred to as:\n",
    "\n",
    "#### R: the Reward payoff (default value in the library: 3) C-C\n",
    "#### P: the Punishment payoff (default value in the library: 1) D-D\n",
    "#### S: the Loss payoff (default value in the library: 0) C-D\n",
    "#### T: the Temptation payoff (default value in the library: 5) D-C"
   ]
  },
  {
   "cell_type": "code",
   "execution_count": 31,
   "metadata": {},
   "outputs": [
    {
     "data": {
      "text/plain": [
       "[(3, 3),\n",
       " (3, 3),\n",
       " (3, 3),\n",
       " (3, 3),\n",
       " (3, 3),\n",
       " (3, 3),\n",
       " (3, 3),\n",
       " (3, 3),\n",
       " (3, 3),\n",
       " (3, 3)]"
      ]
     },
     "execution_count": 31,
     "metadata": {},
     "output_type": "execute_result"
    }
   ],
   "source": [
    "match1.scores()  "
   ]
  },
  {
   "cell_type": "markdown",
   "metadata": {},
   "source": [
    "# Viewing the results with Sparklines"
   ]
  },
  {
   "cell_type": "code",
   "execution_count": 32,
   "metadata": {},
   "outputs": [
    {
     "name": "stdout",
     "output_type": "stream",
     "text": [
      "██████████\n",
      "██████████\n"
     ]
    }
   ],
   "source": [
    "print(match1.sparklines())"
   ]
  },
  {
   "cell_type": "markdown",
   "metadata": {},
   "source": [
    "#### The result of the match can also be viewed as sparklines where cooperation is shown as a solid block and defection as a space. \n",
    "#### 1st row is for player A and 2nd row is for player B"
   ]
  },
  {
   "cell_type": "markdown",
   "metadata": {},
   "source": [
    "# Case 2: Game is played infinite number of times. For simplicity and for illustration let us take this to be 20\n"
   ]
  },
  {
   "cell_type": "code",
   "execution_count": 23,
   "metadata": {},
   "outputs": [
    {
     "data": {
      "text/plain": [
       "[(C, D),\n",
       " (D, C),\n",
       " (C, C),\n",
       " (C, D),\n",
       " (D, D),\n",
       " (D, C),\n",
       " (C, C),\n",
       " (C, D),\n",
       " (D, D),\n",
       " (D, C),\n",
       " (C, C),\n",
       " (C, D),\n",
       " (D, D),\n",
       " (D, C),\n",
       " (C, D),\n",
       " (D, C),\n",
       " (C, D),\n",
       " (D, D),\n",
       " (D, D),\n",
       " (D, D)]"
      ]
     },
     "execution_count": 23,
     "metadata": {},
     "output_type": "execute_result"
    }
   ],
   "source": [
    "players = (axl.TitForTat(), axl.Random())               # Player A plays of titfortat and player B Random strategy\n",
    "match2 =   axl.Match(players, turns =20)                          # play for 20 turns\n",
    "match2.play()"
   ]
  },
  {
   "cell_type": "markdown",
   "metadata": {},
   "source": [
    "# Payoff of Case 2"
   ]
  },
  {
   "cell_type": "code",
   "execution_count": 27,
   "metadata": {},
   "outputs": [
    {
     "data": {
      "text/plain": [
       "Axelrod game: (R,P,S,T) = (3, 1, 0, 5)"
      ]
     },
     "execution_count": 27,
     "metadata": {},
     "output_type": "execute_result"
    }
   ],
   "source": [
    "match2.game"
   ]
  },
  {
   "cell_type": "code",
   "execution_count": 28,
   "metadata": {},
   "outputs": [
    {
     "data": {
      "text/plain": [
       "[(0, 5),\n",
       " (5, 0),\n",
       " (3, 3),\n",
       " (0, 5),\n",
       " (1, 1),\n",
       " (5, 0),\n",
       " (3, 3),\n",
       " (0, 5),\n",
       " (1, 1),\n",
       " (5, 0),\n",
       " (3, 3),\n",
       " (0, 5),\n",
       " (1, 1),\n",
       " (5, 0),\n",
       " (0, 5),\n",
       " (5, 0),\n",
       " (0, 5),\n",
       " (1, 1),\n",
       " (1, 1),\n",
       " (1, 1)]"
      ]
     },
     "execution_count": 28,
     "metadata": {},
     "output_type": "execute_result"
    }
   ],
   "source": [
    "# Scores of a match\n",
    "\n",
    "match2.scores()"
   ]
  },
  {
   "cell_type": "markdown",
   "metadata": {},
   "source": [
    "# Visualizing Case 2 using Sparklines"
   ]
  },
  {
   "cell_type": "code",
   "execution_count": 30,
   "metadata": {},
   "outputs": [
    {
     "name": "stdout",
     "output_type": "stream",
     "text": [
      "█ ██  ██  ██  █ █   \n",
      " ██  ██  ██  █ █    \n"
     ]
    }
   ],
   "source": [
    "print(match2.sparklines())"
   ]
  },
  {
   "cell_type": "markdown",
   "metadata": {},
   "source": [
    "# Exercise"
   ]
  },
  {
   "cell_type": "code",
   "execution_count": 34,
   "metadata": {},
   "outputs": [
    {
     "data": {
      "text/plain": [
       "[(C, C),\n",
       " (C, D),\n",
       " (C, C),\n",
       " (C, D),\n",
       " (C, C),\n",
       " (C, D),\n",
       " (C, C),\n",
       " (C, D),\n",
       " (C, C),\n",
       " (C, D),\n",
       " (C, C),\n",
       " (C, D),\n",
       " (C, C),\n",
       " (C, D),\n",
       " (C, C)]"
      ]
     },
     "execution_count": 34,
     "metadata": {},
     "output_type": "execute_result"
    }
   ],
   "source": [
    "players = (axl.Cooperator(), axl.Alternator())               # using players of Cooperator and Alternator strategy\n",
    "match3 =   axl.Match(players, turns =15)                          # play for 5 turns\n",
    "match3.play()"
   ]
  },
  {
   "cell_type": "code",
   "execution_count": 35,
   "metadata": {},
   "outputs": [
    {
     "name": "stdout",
     "output_type": "stream",
     "text": [
      "███████████████\n",
      "█ █ █ █ █ █ █ █\n"
     ]
    }
   ],
   "source": [
    "print(match3.sparklines())"
   ]
  },
  {
   "cell_type": "markdown",
   "metadata": {},
   "source": [
    "## Link to the axelrod documentation\n",
    "### https://axelrod.readthedocs.io/en/stable/index.html"
   ]
  },
  {
   "cell_type": "code",
   "execution_count": null,
   "metadata": {},
   "outputs": [],
   "source": []
  }
 ],
 "metadata": {
  "kernelspec": {
   "display_name": "Python 3",
   "language": "python",
   "name": "python3"
  },
  "language_info": {
   "codemirror_mode": {
    "name": "ipython",
    "version": 3
   },
   "file_extension": ".py",
   "mimetype": "text/x-python",
   "name": "python",
   "nbconvert_exporter": "python",
   "pygments_lexer": "ipython3",
   "version": "3.7.4"
  }
 },
 "nbformat": 4,
 "nbformat_minor": 4
}
